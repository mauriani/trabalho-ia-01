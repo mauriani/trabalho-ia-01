{
  "cells": [
    {
      "cell_type": "code",
      "execution_count": 5,
      "metadata": {
        "colab": {
          "base_uri": "https://localhost:8080/"
        },
        "id": "I-mH9uw4fHG_",
        "outputId": "e767d2af-eb9f-4666-f152-55dc02840ff9"
      },
      "outputs": [
        {
          "name": "stdout",
          "output_type": "stream",
          "text": [
            "Requirement already satisfied: ucimlrepo in /usr/local/lib/python3.10/dist-packages (0.0.7)\n",
            "Requirement already satisfied: pandas>=1.0.0 in /usr/local/lib/python3.10/dist-packages (from ucimlrepo) (2.2.2)\n",
            "Requirement already satisfied: certifi>=2020.12.5 in /usr/local/lib/python3.10/dist-packages (from ucimlrepo) (2024.8.30)\n",
            "Requirement already satisfied: numpy>=1.22.4 in /usr/local/lib/python3.10/dist-packages (from pandas>=1.0.0->ucimlrepo) (1.26.4)\n",
            "Requirement already satisfied: python-dateutil>=2.8.2 in /usr/local/lib/python3.10/dist-packages (from pandas>=1.0.0->ucimlrepo) (2.8.2)\n",
            "Requirement already satisfied: pytz>=2020.1 in /usr/local/lib/python3.10/dist-packages (from pandas>=1.0.0->ucimlrepo) (2024.2)\n",
            "Requirement already satisfied: tzdata>=2022.7 in /usr/local/lib/python3.10/dist-packages (from pandas>=1.0.0->ucimlrepo) (2024.2)\n",
            "Requirement already satisfied: six>=1.5 in /usr/local/lib/python3.10/dist-packages (from python-dateutil>=2.8.2->pandas>=1.0.0->ucimlrepo) (1.16.0)\n"
          ]
        }
      ],
      "source": [
        "!pip install ucimlrepo\n",
        "\n",
        "import pandas as pd\n",
        "from sklearn.model_selection import train_test_split\n",
        "from sklearn.preprocessing import LabelEncoder\n",
        "from sklearn.tree import DecisionTreeClassifier, export_text\n",
        "from sklearn.metrics import accuracy_score\n",
        "from ucimlrepo import fetch_ucirepo"
      ]
    },
    {
      "cell_type": "code",
      "execution_count": 11,
      "metadata": {
        "id": "gdCCvt44fSfc"
      },
      "outputs": [],
      "source": [
        "# a. Construa uma árvore de decisão com dois níveis de nó de decisão (isto é, o primeiro\n",
        "# nó de decisão (primeiro nível), os nós de decisão abaixo dele (segundo nível) e em\n",
        "# seguida os nós folha) usando a medida de Ganho de Informação. Selecione\n",
        "# aleatoriamente 10000 amostras dos dados para treinamento que serão usados para\n",
        "# construir a árvore. Retorne a estrutura da árvore construída.\n",
        "\n",
        "nursery = fetch_ucirepo(id=76)\n",
        "\n",
        "# data (as pandas dataframes)\n",
        "X = nursery.data.features\n",
        "y = nursery.data.targets"
      ]
    },
    {
      "cell_type": "code",
      "execution_count": 15,
      "metadata": {
        "colab": {
          "base_uri": "https://localhost:8080/"
        },
        "id": "mKcHJ1FdePAu",
        "outputId": "d2e1018b-c5f7-4606-ca1b-c25af2988e97"
      },
      "outputs": [
        {
          "name": "stdout",
          "output_type": "stream",
          "text": [
            "\n",
            "Estrutura da árvore de decisão (máximo 2 níveis):\n",
            " |--- health <= 0.50\n",
            "|   |--- class: 0\n",
            "|--- health >  0.50\n",
            "|   |--- has_nurs <= 3.50\n",
            "|   |   |--- class: 1\n",
            "|   |--- has_nurs >  3.50\n",
            "|   |   |--- class: 3\n",
            "\n",
            "\n",
            "Acurácia nos dados de teste: 0.7625\n",
            "\n",
            "Regras de decisão:\n",
            " |--- health <= 0.50\n",
            "|   |--- class: 0\n",
            "|--- health >  0.50\n",
            "|   |--- has_nurs <= 3.50\n",
            "|   |   |--- class: 1\n",
            "|   |--- has_nurs >  3.50\n",
            "|   |   |--- class: 3\n",
            "\n"
          ]
        }
      ],
      "source": [
        "label_encoders = {col: LabelEncoder() for col in X.columns}\n",
        "for col in X.columns:\n",
        "    X.loc[:, col] = label_encoders[col].fit_transform(X[col])\n",
        "\n",
        "y = LabelEncoder().fit_transform(y)\n",
        "X_train, X_test, y_train, y_test = train_test_split(X, y, train_size=10000, random_state=42, stratify=y)\n",
        "\n",
        "# Construir a árvore de decisão\n",
        "clf = DecisionTreeClassifier(criterion='entropy', max_depth=2, random_state=42)\n",
        "clf.fit(X_train, y_train)\n",
        "\n",
        "# Retornar a estrutura da árvore\n",
        "tree_rules = export_text(clf, feature_names=list(X.columns))\n",
        "print(\"\\nEstrutura da árvore de decisão (máximo 2 níveis):\\n\", tree_rules)\n",
        "\n",
        "# b. Use os restantes dos dados para avaliação. Retorne a acurácia obtida.\n",
        "\n",
        "y_pred = clf.predict(X_test)\n",
        "accuracy = accuracy_score(y_test, y_pred)\n",
        "print(\"\\nAcurácia nos dados de teste:\", accuracy)\n",
        "\n",
        "# c. Tente obter as regras de decisão a partir da árvore construída.\n",
        "\n",
        "print(\"\\nRegras de decisão:\\n\", tree_rules)\n"
      ]
    }
  ],
  "metadata": {
    "colab": {
      "provenance": []
    },
    "kernelspec": {
      "display_name": "Python 3",
      "name": "python3"
    },
    "language_info": {
      "name": "python"
    }
  },
  "nbformat": 4,
  "nbformat_minor": 0
}
